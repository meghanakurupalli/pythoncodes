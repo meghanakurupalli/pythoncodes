{
 "cells": [
  {
   "cell_type": "markdown",
   "metadata": {},
   "source": [
    "# <u> **Problem 1: Distances and Norms** </u>\n"
   ]
  },
  {
   "cell_type": "code",
   "execution_count": 21,
   "metadata": {
    "scrolled": false
   },
   "outputs": [
    {
     "name": "stdout",
     "output_type": "stream",
     "text": [
      "The input vectors should be of the form: a b c for a vector ai+bj+ck\n",
      "Enter vector1 : 1 2\n",
      "Enter vector2 : 1 2\n",
      "Cosine Similarity of [[1, 2] and [1, 2]is : 0.9999999999999998\n"
     ]
    }
   ],
   "source": [
    "import numpy as np\n",
    "from numpy.linalg import norm\n",
    "\n",
    "def cosineSimilarity():\n",
    "    print(\"The input vectors should be of the form: a b c for a vector ai+bj+ck\")\n",
    "    vector1 = input(\"Enter vector1 : \")\n",
    "    vector2 = input(\"Enter vector2 : \")\n",
    "\n",
    "    a = [int(x) for x in vector1.split()]\n",
    "    b = [int(x) for x in vector2.split()]\n",
    "\n",
    "    if(np.shape(a) == np.shape(b)):\n",
    "        prod = np.dot(a,b)\n",
    "        cos_sim = prod/(norm(a)*norm(b));\n",
    "        #print(a)\n",
    "        s = 'Cosine Similarity of [' + str(a) + ' and ' + str(b) + 'is : ' + str(cos_sim)\n",
    "        print(s)   \n",
    "    else:\n",
    "        print(\"The two vectors are different in dimensions\")\n",
    "\n",
    "cosineSimilarity()\n",
    "        "
   ]
  },
  {
   "cell_type": "markdown",
   "metadata": {},
   "source": [
    "a)Geometrically speaking, cosine similarity tells us about the orientation of two vectors, irrespective of their magnitude.\n",
    "\n",
    "b)A Cosine similarity of zero implies that the two vectors are ortogonal to each other. i.e., the angle between the two vectors is 90 degrees.\n",
    "\n",
    "c)Cosine similarity of 1 means that they are collinear as well as co-directed.i.e., they both are parallel and in the         same direction.\n",
    "\n",
    "  Cosine similarity -1 means that they are collinear and are in opposite directions to each other."
   ]
  },
  {
   "cell_type": "code",
   "execution_count": 14,
   "metadata": {},
   "outputs": [
    {
     "name": "stdout",
     "output_type": "stream",
     "text": [
      "[4 6]\n"
     ]
    }
   ],
   "source": [
    "import sys\n",
    "import numpy as np\n",
    "\n",
    "x1 = np.array([1,1])\n",
    "x2 = np.array([2,2])\n",
    "x3 = np.array([-2,2])\n",
    "\n",
    "x4 = np.array([np.random.randint(-10,10),np.random.randint(-10,10)])\n",
    "\n",
    "print(x4)\n",
    "\n"
   ]
  },
  {
   "cell_type": "code",
   "execution_count": 23,
   "metadata": {},
   "outputs": [
    {
     "name": "stdout",
     "output_type": "stream",
     "text": [
      "The input vectors should be of the form: a b c for a vector ai+bj+ck\n",
      "Enter vector1 : 1 1\n",
      "Enter vector2 : 2 2\n",
      "Cosine Similarity of [[1, 1] and [2, 2]is : 0.9999999999999998\n"
     ]
    }
   ],
   "source": [
    "cosineSimilarity()"
   ]
  },
  {
   "cell_type": "code",
   "execution_count": 24,
   "metadata": {},
   "outputs": [
    {
     "name": "stdout",
     "output_type": "stream",
     "text": [
      "The input vectors should be of the form: a b c for a vector ai+bj+ck\n",
      "Enter vector1 : 1 1\n",
      "Enter vector2 : -2 2\n",
      "Cosine Similarity of [[1, 1] and [-2, 2]is : 0.0\n"
     ]
    }
   ],
   "source": [
    "cosineSimilarity()"
   ]
  },
  {
   "cell_type": "code",
   "execution_count": 25,
   "metadata": {},
   "outputs": [
    {
     "name": "stdout",
     "output_type": "stream",
     "text": [
      "The input vectors should be of the form: a b c for a vector ai+bj+ck\n",
      "Enter vector1 : 1 1\n",
      "Enter vector2 : 4 6\n",
      "Cosine Similarity of [[1, 1] and [4, 6]is : 0.98058067569092\n"
     ]
    }
   ],
   "source": [
    "cosineSimilarity()"
   ]
  },
  {
   "cell_type": "code",
   "execution_count": 27,
   "metadata": {},
   "outputs": [
    {
     "name": "stdout",
     "output_type": "stream",
     "text": [
      "[[ 1  1]\n",
      " [ 2  2]\n",
      " [-2  2]\n",
      " [ 4  6]]\n"
     ]
    }
   ],
   "source": [
    "arr = np.stack((x1,x2,x3,x4))\n",
    "print(arr)"
   ]
  },
  {
   "cell_type": "code",
   "execution_count": 28,
   "metadata": {},
   "outputs": [
    {
     "data": {
      "text/plain": [
       "<Figure size 640x480 with 1 Axes>"
      ]
     },
     "metadata": {},
     "output_type": "display_data"
    }
   ],
   "source": [
    "import numpy as np\n",
    "import matplotlib.pyplot as plt\n",
    "\n",
    "origin = [0], [0] \n",
    "\n",
    "\n"
   ]
  },
  {
   "cell_type": "code",
   "execution_count": 31,
   "metadata": {},
   "outputs": [
    {
     "data": {
      "image/png": "[encoded data removed]",
      "text/plain": [
       "<Figure size 432x288 with 1 Axes>"
      ]
     },
     "metadata": {
      "needs_background": "light"
     },
     "output_type": "display_data"
    }
   ],
   "source": [
    "plt.quiver(*origin, arr[:,0], arr[:,1], color=['r','b','g'], scale=21)\n",
    "plt.show()"
   ]
  },
  {
   "cell_type": "code",
   "execution_count": 33,
   "metadata": {},
   "outputs": [
    {
     "data": {
      "text/plain": [
       "10.0"
      ]
     },
     "execution_count": 33,
     "metadata": {},
     "output_type": "execute_result"
    }
   ],
   "source": [
    "from numpy.linalg import norm\n",
    "np.linalg.norm(x4, ord=1)"
   ]
  },
  {
   "cell_type": "code",
   "execution_count": 34,
   "metadata": {},
   "outputs": [
    {
     "data": {
      "text/plain": [
       "7.211102550927978"
      ]
     },
     "execution_count": 34,
     "metadata": {},
     "output_type": "execute_result"
    }
   ],
   "source": [
    "np.linalg.norm(x4)"
   ]
  },
  {
   "cell_type": "code",
   "execution_count": 35,
   "metadata": {},
   "outputs": [
    {
     "data": {
      "text/plain": [
       "6.276577985429992"
      ]
     },
     "execution_count": 35,
     "metadata": {},
     "output_type": "execute_result"
    }
   ],
   "source": [
    "np.linalg.norm(x4, ord=4)"
   ]
  },
  {
   "cell_type": "code",
   "execution_count": 36,
   "metadata": {},
   "outputs": [
    {
     "data": {
      "text/plain": [
       "6.010324601930126"
      ]
     },
     "execution_count": 36,
     "metadata": {},
     "output_type": "execute_result"
    }
   ],
   "source": [
    "np.linalg.norm(x4, ord=10)"
   ]
  },
  {
   "cell_type": "code",
   "execution_count": 39,
   "metadata": {},
   "outputs": [
    {
     "data": {
      "text/plain": [
       "8.0"
      ]
     },
     "execution_count": 39,
     "metadata": {},
     "output_type": "execute_result"
    }
   ],
   "source": [
    "np.linalg.norm((x1-x4), ord=1)"
   ]
  },
  {
   "cell_type": "code",
   "execution_count": 40,
   "metadata": {},
   "outputs": [
    {
     "data": {
      "text/plain": [
       "5.830951894845301"
      ]
     },
     "execution_count": 40,
     "metadata": {},
     "output_type": "execute_result"
    }
   ],
   "source": [
    "np.linalg.norm((x1-x4))"
   ]
  },
  {
   "cell_type": "code",
   "execution_count": 41,
   "metadata": {},
   "outputs": [
    {
     "data": {
      "text/plain": [
       "5.154673657097299"
      ]
     },
     "execution_count": 41,
     "metadata": {},
     "output_type": "execute_result"
    }
   ],
   "source": [
    "np.linalg.norm((x1-x4), ord=4)"
   ]
  },
  {
   "cell_type": "code",
   "execution_count": 42,
   "metadata": {},
   "outputs": [
    {
     "data": {
      "text/plain": [
       "5.003015113809089"
      ]
     },
     "execution_count": 42,
     "metadata": {},
     "output_type": "execute_result"
    }
   ],
   "source": [
    "np.linalg.norm((x1-x4), ord=10)"
   ]
  },
  {
   "cell_type": "markdown",
   "metadata": {},
   "source": [
    "# <u> **Problem 2: Rank, Matrix Inverses, and Solving Linear Systems** </u>"
   ]
  },
  {
   "cell_type": "code",
   "execution_count": 46,
   "metadata": {},
   "outputs": [
    {
     "name": "stdout",
     "output_type": "stream",
     "text": [
      "[[ -9 -10 -10]\n",
      " [ -6   2  -8]\n",
      " [ -1  -4   6]]\n"
     ]
    }
   ],
   "source": [
    "Mat = np.random.randint(-10, high=10, size=(3,3))\n",
    "print(Mat)"
   ]
  },
  {
   "cell_type": "markdown",
   "metadata": {},
   "source": [
    "The rank of a matrix is the space we get by all possible combinations of the vectors. Now, consider a 3x3 matrix whose rank is 2. This means that all the vectors lie in a single plane. By calculating the inverse of the matrix, we are essentially reversing the direction of the vectors. In this scenario, all possible sums of vectors might lie in a single plane, but it need not be the plane from scenario-1. So, in an nxn matrix, if the rank<n, inverse of that matrix does not exist."
   ]
  },
  {
   "cell_type": "code",
   "execution_count": 47,
   "metadata": {},
   "outputs": [
    {
     "data": {
      "text/plain": [
       "3"
      ]
     },
     "execution_count": 47,
     "metadata": {},
     "output_type": "execute_result"
    }
   ],
   "source": [
    " np.linalg.matrix_rank(Mat)"
   ]
  },
  {
   "cell_type": "code",
   "execution_count": 58,
   "metadata": {},
   "outputs": [
    {
     "name": "stdout",
     "output_type": "stream",
     "text": [
      "[[ 0.03846154 -0.19230769 -0.19230769]\n",
      " [-0.08461538  0.12307692  0.02307692]\n",
      " [-0.05        0.05        0.15      ]]\n"
     ]
    }
   ],
   "source": [
    "#Since the rank of 3x3 matrix is 3, inverse of the matrix exists.\n",
    "Mat_inv = np.linalg.inv(Mat)\n",
    "print(Mat_inv)"
   ]
  },
  {
   "cell_type": "code",
   "execution_count": 55,
   "metadata": {},
   "outputs": [
    {
     "data": {
      "text/plain": [
       "array([[1],\n",
       "       [2],\n",
       "       [3]])"
      ]
     },
     "execution_count": 55,
     "metadata": {},
     "output_type": "execute_result"
    }
   ],
   "source": [
    "# If AX=B, X=Inverse(A).B\n",
    "b = np.array([1,2,3])\n",
    "b[:, np.newaxis]\n",
    "b.shape"
   ]
  },
  {
   "cell_type": "code",
   "execution_count": 61,
   "metadata": {},
   "outputs": [
    {
     "name": "stdout",
     "output_type": "stream",
     "text": [
      "[[-0.92307692]\n",
      " [ 0.23076923]\n",
      " [ 0.5       ]]\n"
     ]
    }
   ],
   "source": [
    "X = np.matmul(Mat_inv,b)\n",
    "print(X[:, np.newaxis])"
   ]
  },
  {
   "cell_type": "code",
   "execution_count": 63,
   "metadata": {},
   "outputs": [
    {
     "name": "stdout",
     "output_type": "stream",
     "text": [
      "[[1.]\n",
      " [2.]\n",
      " [3.]]\n"
     ]
    }
   ],
   "source": [
    "b = np.matmul(Mat,X)\n",
    "print(b[:, np.newaxis])"
   ]
  },
  {
   "cell_type": "code",
   "execution_count": 66,
   "metadata": {},
   "outputs": [
    {
     "name": "stdout",
     "output_type": "stream",
     "text": [
      "[[-0.92307692]\n",
      " [ 0.23076923]\n",
      " [ 0.5       ]]\n"
     ]
    }
   ],
   "source": [
    "#Calculating X with linalg.solve, instead of finding inverse\n",
    "X = np.linalg.solve(Mat,b)\n",
    "print(X[:, np.newaxis])"
   ]
  },
  {
   "cell_type": "code",
   "execution_count": 70,
   "metadata": {},
   "outputs": [
    {
     "name": "stdout",
     "output_type": "stream",
     "text": [
      "[[ 1 -1  1]\n",
      " [-3  2  4]\n",
      " [-1  0  6]]\n"
     ]
    }
   ],
   "source": [
    "newMat = np.array(([1,-1,1],[-3,2,4],[-1,0,6]))\n",
    "print(newMat)"
   ]
  },
  {
   "cell_type": "code",
   "execution_count": 71,
   "metadata": {},
   "outputs": [
    {
     "data": {
      "text/plain": [
       "2"
      ]
     },
     "execution_count": 71,
     "metadata": {},
     "output_type": "execute_result"
    }
   ],
   "source": [
    "np.linalg.matrix_rank(newMat)"
   ]
  },
  {
   "cell_type": "code",
   "execution_count": 72,
   "metadata": {},
   "outputs": [
    {
     "name": "stdout",
     "output_type": "stream",
     "text": [
      "[[-2.70215978e+16 -1.35107989e+16  1.35107989e+16]\n",
      " [-3.15251974e+16 -1.57625987e+16  1.57625987e+16]\n",
      " [-4.50359963e+15 -2.25179981e+15  2.25179981e+15]]\n"
     ]
    }
   ],
   "source": [
    "newMat_inv = np.linalg.inv(newMat)\n",
    "print(newMat_inv)"
   ]
  },
  {
   "cell_type": "code",
   "execution_count": 73,
   "metadata": {},
   "outputs": [
    {
     "data": {
      "text/plain": [
       "array([[ 0.,  0.,  2.],\n",
       "       [ 0.,  0., -4.],\n",
       "       [ 0.,  0.,  0.]])"
      ]
     },
     "execution_count": 73,
     "metadata": {},
     "output_type": "execute_result"
    }
   ],
   "source": [
    "np.matmul(newMat,newMat_inv)"
   ]
  },
  {
   "cell_type": "code",
   "execution_count": 75,
   "metadata": {},
   "outputs": [
    {
     "name": "stdout",
     "output_type": "stream",
     "text": [
      "[-1.35107989e+16 -1.57625987e+16 -2.25179981e+15]\n"
     ]
    }
   ],
   "source": [
    "X = np.matmul(newMat_inv, b)\n",
    "print(X)"
   ]
  },
  {
   "cell_type": "markdown",
   "metadata": {},
   "source": [
    "Ideally, since the rank of matrix is 2, an inverse should not be printed at all. But, since the numbers are floating points, they can get close to zero, but cannot exactly become zero. That is the reason why we see e+16 values in the resulting matrices."
   ]
  },
  {
   "cell_type": "code",
   "execution_count": 79,
   "metadata": {},
   "outputs": [
    {
     "name": "stdout",
     "output_type": "stream",
     "text": [
      "(array([ 0.03100775, -0.10271318,  0.53294574]), array([], dtype=float64), 2, array([ 7.77600954,  2.92124557, -0.        ]))\n"
     ]
    }
   ],
   "source": [
    "solution = np.linalg.lstsq(newMat, b, rcond=None)\n",
    "print(solution)"
   ]
  },
  {
   "cell_type": "code",
   "execution_count": 86,
   "metadata": {},
   "outputs": [],
   "source": [
    "arr = np.array(([ 0.03100775, -0.10271318,  0.53294574]))\n",
    "new_b = np.matmul(newMat,arr)#new b is b^\n",
    "print(new_b)"
   ]
  },
  {
   "cell_type": "code",
   "execution_count": 92,
   "metadata": {},
   "outputs": [
    {
     "name": "stdout",
     "output_type": "stream",
     "text": [
      "0.4082482904638626\n"
     ]
    }
   ],
   "source": [
    "Euclidean_distance = np.linalg.norm(b-new_b)\n",
    "print(Euclidean_distance)"
   ]
  },
  {
   "cell_type": "markdown",
   "metadata": {},
   "source": [
    "# <u> **Problem 3: Determinants, Eigenvalues, and Positive Definite Matrices** </u>"
   ]
  },
  {
   "cell_type": "code",
   "execution_count": 94,
   "metadata": {},
   "outputs": [
    {
     "name": "stdout",
     "output_type": "stream",
     "text": [
      "[[ 5.92337167  5.86623218  9.97183104]\n",
      " [ 2.10240166  5.09203822  5.19589267]\n",
      " [ 7.64681407  8.08732004 -0.42328095]]\n"
     ]
    }
   ],
   "source": [
    "standard_deviation = np.sqrt(10)\n",
    "Mat2 = np.random.normal(loc=5, scale=standard_deviation, size=(3,3))\n",
    "print(Mat2)"
   ]
  },
  {
   "cell_type": "code",
   "execution_count": 96,
   "metadata": {},
   "outputs": [
    {
     "name": "stdout",
     "output_type": "stream",
     "text": [
      "-242.10728172338239\n"
     ]
    }
   ],
   "source": [
    "det_Mat2 = np.linalg.det(Mat2)\n",
    "print(det_Mat2)"
   ]
  },
  {
   "cell_type": "code",
   "execution_count": 98,
   "metadata": {},
   "outputs": [
    {
     "name": "stdout",
     "output_type": "stream",
     "text": [
      "(array([16.1671441 ,  1.98171294, -7.5567281 ]), array([[-0.74700489, -0.73772782, -0.50013694],\n",
      "       [-0.39327832,  0.66749075, -0.25660879],\n",
      "       [-0.53601852, -0.10106312,  0.82705198]]))\n"
     ]
    }
   ],
   "source": [
    "print(np.linalg.eig(Mat2))"
   ]
  },
  {
   "cell_type": "markdown",
   "metadata": {},
   "source": [
    "Eigen vectors have fixed dimensions when a linear transformation occours. They are like the anchors for a function when a distortion takes place. It holds the function in a place. WIth different linear transformations occouring, they stretch or shrink, but the direction remains the same.\n",
    "\n",
    "Zero eigenvalue means that every point is an equilibrium point and the system does not move."
   ]
  },
  {
   "cell_type": "code",
   "execution_count": null,
   "metadata": {},
   "outputs": [],
   "source": []
  }
 ],
 "metadata": {
  "kernelspec": {
   "display_name": "Python 3",
   "language": "python",
   "name": "python3"
  },
  "language_info": {
   "codemirror_mode": {
    "name": "ipython",
    "version": 3
   },
   "file_extension": ".py",
   "mimetype": "text/x-python",
   "name": "python",
   "nbconvert_exporter": "python",
   "pygments_lexer": "ipython3",
   "version": "3.7.2"
  }
 },
 "nbformat": 4,
 "nbformat_minor": 2
}
