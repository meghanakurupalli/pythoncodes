{
 "cells": [
  {
   "cell_type": "markdown",
   "metadata": {},
   "source": [
    "# Logistic Regression - Linear Classifier for Non-Linear Data\n",
    "\n",
    "\n",
    "In the lecture we have shown that Logistic Regression is a **linear classifier**. Then, how does it classify non-linear data?\n",
    "\n",
    "In this recitation you will train a Logistic Regression classifier on a non-linear dataset. The main questions that you will try to understand is: \n",
    "- How does a linear classifier define the decision boundary for non-linear data?\n",
    "- Is the decision boundary on a non-linear data linear?\n",
    "\n",
    "For a dataset that is not linearly separable you need to augment the feature matrix by adding higher order polynomial terms. The augmented feature space allows the model to create a linear separation of the classes (i.e., to create a linear decision boundary). By using contour plots of the decision boundary on a high-dimensional (feature augmented) dataset, you will be able to understand the \"linear classification\" of a non-linear dataset by the Logistic Regression model.\n",
    "\n",
    "For better understanding you will create visualization of the decision boundary of your model.\n",
    "\n",
    "To plot the decision boundary, you will use the the following two functions from \"Logistic Regression-1-Binary Classification\" notebook:\n",
    "- decision_boundary_various_thresholds\n",
    "- decision_boundary_class_colored\n",
    "\n",
    "Please read the detailed notes on these two functions from the notebook.\n",
    "\n",
    "\n",
    "### Scikit-Learn Logistic Regression Model\n",
    "\n",
    "You will need to set the following two parameters to use the Scikit-Learn LogisticRegression model.\n",
    "- solver\n",
    "- C\n",
    "\n",
    "For the solver, you may use the \"liblinear\" algorithm.\n",
    "\n",
    "The strength of the regularization is controlled by the hyperparameter C. The higher the value of C, the less the model is regularized.\n",
    "\n",
    "\n",
    "## Tasks\n",
    "1. Train a linear model, evaluate train & test performance, plot decision boundary using two functions\n",
    "2. Find the optimal polynomial model and train it, evaluate train & test performance, plot decision boundary using two functions"
   ]
  },
  {
   "cell_type": "code",
   "execution_count": 29,
   "metadata": {},
   "outputs": [],
   "source": [
    "import numpy as np\n",
    "%matplotlib inline\n",
    "import matplotlib.pyplot as plt\n",
    "\n",
    "\n",
    "from sklearn.datasets.samples_generator import make_circles\n",
    "\n",
    "from sklearn.preprocessing import StandardScaler, PolynomialFeatures\n",
    "from sklearn.pipeline import Pipeline\n",
    "from sklearn.pipeline import make_pipeline\n",
    "\n",
    "from sklearn import svm\n",
    "from sklearn.linear_model import LogisticRegression\n",
    "from sklearn.metrics import confusion_matrix, precision_score, recall_score, f1_score, roc_curve, precision_recall_curve, classification_report\n",
    "from sklearn.model_selection import train_test_split, learning_curve, GridSearchCV, cross_val_score"
   ]
  },
  {
   "cell_type": "markdown",
   "metadata": {},
   "source": [
    "# Function for Plotting Decision Bounday \n",
    "\n",
    "Logistic Regression is a **linear classifier**. \n",
    "\n",
    "To better understand how Logistic Regression creates linear decision boundary, we need to **<font color=red size=6> visualize </font>** it.\n",
    "\n",
    "We provide two techniques for plotting the class decision boundary for a multi-class classification problem.\n",
    "\n",
    "1. Using Various Thresholds for a Class Probability \n",
    "2. Using Class Prediction \n",
    "\n",
    "The 1st technique is useful for understanding the decision boundaries at various thresholds. It reveals the scope of the solution space. We use the function \"decision_boundary_various_thresholds\" to plot this decision boundary\n",
    "\n",
    "The 2nd technique is simple and easy to extend for non-linear dataset. We will use it more often. We use the function \"decision_boundary_class_colored\" to plot this decision boundary. Note that for multi-class classification, the \"plotDistanceFromHyperplane\" attribute should be set to False.\n",
    "\n",
    "A detail discussion on these two functions are provided in the \"Logistic Regression-1-Binary Classification\" notebook."
   ]
  },
  {
   "cell_type": "code",
   "execution_count": 22,
   "metadata": {},
   "outputs": [],
   "source": [
    "def decision_boundary_various_thresholds(clf, X):\n",
    "    \n",
    "    # Get the min and max value of feature x1\n",
    "    x1min, x1max = X[:,0].min() - 1, X[:, 0].max() + 1\n",
    "    \n",
    "    # Get the min and max value of feature x2\n",
    "    x2min, x2max = X[:,1].min() - 1, X[:, 1].max() + 1\n",
    "    \n",
    "    # Create the mesh grid\n",
    "    x1s = np.linspace(x1min, x1max, 100)\n",
    "    x2s = np.linspace(x2min, x2max, 100)\n",
    "    x1, x2 = np.meshgrid(x1s, x2s)\n",
    "\n",
    "    # Create pairs of new points from the grid\n",
    "    X_new = np.c_[x1.ravel(), x2.ravel()]\n",
    "\n",
    "    # Compute the estimates for 2 classes for all new points\n",
    "    y_proba = clf.predict_proba(X_new)\n",
    "\n",
    "    \n",
    "    # We only use the estimate for the class Iris-Virginica\n",
    "    zz = y_proba[:, 1].reshape(x1.shape)\n",
    "\n",
    "    # Generate the contour plot for the estimates of class 1\n",
    "    contour = plt.contour(x1, x2, zz, cmap=plt.cm.brg)\n",
    "\n",
    "    plt.clabel(contour, inline=1, fontsize=12)\n",
    "    \n",
    "    \n",
    "def decision_boundary_class_colored(clf, X, plotDistanceFromHyperplane=False):\n",
    "    \n",
    "    # Get the min and max value of feature x1\n",
    "    x1min, x1max = X[:,0].min() - 1, X[:, 0].max() + 1\n",
    "    \n",
    "    # Get the min and max value of feature x2\n",
    "    x2min, x2max = X[:,1].min() - 1, X[:, 1].max() + 1\n",
    "    \n",
    "    # Create the mesh grid\n",
    "    x1s = np.linspace(x1min, x1max, 100)\n",
    "    x2s = np.linspace(x2min, x2max, 100)\n",
    "    x1, x2 = np.meshgrid(x1s, x2s)\n",
    "    \n",
    "    \n",
    "    # Create pairs of new points from the grid\n",
    "    X_new = np.c_[x1.ravel(), x2.ravel()]\n",
    "    \n",
    "    \n",
    "    # Compute the class predictions for all new points\n",
    "    y_pred = clf.predict(X_new).reshape(x1.shape)\n",
    "    \n",
    "    \n",
    "    # Generate the contourf plot for the predictions\n",
    "    plt.contourf(x1, x2, y_pred, cmap=plt.cm.bwr, alpha=0.2)\n",
    "    \n",
    "    \n",
    "    if(plotDistanceFromHyperplane == True):\n",
    "    \n",
    "        # Compute the signed distance of a sample to the hyperplane for all new points\n",
    "        y_decision = clf.decision_function(X_new).reshape(x1.shape)\n",
    "\n",
    "        # Generate the contourf plot for the distance of all points from the hyperplane\n",
    "        plt.contourf(x1, x2, y_decision, cmap=plt.cm.bwr, alpha=0.2)\n",
    "    \n",
    "    plt.colorbar()\n",
    "    "
   ]
  },
  {
   "cell_type": "markdown",
   "metadata": {},
   "source": [
    "\n",
    "# Synthetic Dataset\n",
    "\n",
    "You will use the Scikit-Learn's \"datasets.make_circles\" function to generate a synthetic non-linear dataset that is suitable for investigating classification (as well as clustering) models. It provides better visualization of the classifier performance.\n",
    "\n",
    "\n",
    "You will use the following two parameters of the make_circles function:\n",
    "\n",
    "- factor : Scale factor between inner and outer circle. Range 0 ~ 1.\n",
    "\n",
    "- noise : Standard deviation of Gaussian noise added to the data."
   ]
  },
  {
   "cell_type": "markdown",
   "metadata": {},
   "source": [
    "## Load The Data and Visualiize "
   ]
  },
  {
   "cell_type": "code",
   "execution_count": 23,
   "metadata": {},
   "outputs": [
    {
     "data": {
      "image/png": "[encoded data removed]",
      "text/plain": [
       "<Figure size 864x432 with 1 Axes>"
      ]
     },
     "metadata": {
      "needs_background": "light"
     },
     "output_type": "display_data"
    }
   ],
   "source": [
    "X, y = make_circles(300, factor=0.1, noise=0.25)\n",
    "\n",
    "plt.figure(figsize=(12, 6))\n",
    "\n",
    "plt.scatter(X[:, 0], X[:, 1], c=y, s=50, cmap='autumn')\n",
    "\n",
    "plt.title(\"Data Distribution\", fontsize=16)\n",
    "plt.xlabel(\"x1\", fontsize=14)\n",
    "plt.ylabel(\"x2\", fontsize=14)\n",
    "plt.axis([-1.2, 1.2, -1.1, 1.1])\n",
    "plt.show()"
   ]
  },
  {
   "cell_type": "markdown",
   "metadata": {},
   "source": [
    "## Split Data into Train-Test Set"
   ]
  },
  {
   "cell_type": "code",
   "execution_count": 24,
   "metadata": {},
   "outputs": [],
   "source": [
    "X_train, X_test, y_train, y_test = train_test_split(X, y, test_size=0.20, random_state=42)"
   ]
  },
  {
   "cell_type": "markdown",
   "metadata": {},
   "source": [
    "## Create A Scatter Plot of Train and Test Data  (10 pts)\n",
    "\n",
    "On the same figure plot both the train and test data. \n",
    "\n",
    "To separately show the test data, use black \"edgecolors\" and slightly bigger marker size (using the \"s\" parameter).\n",
    "\n",
    "More info on the parameters of matplotlib scatter plot.\n",
    "\n",
    "https://matplotlib.org/api/_as_gen/matplotlib.pyplot.scatter.html"
   ]
  },
  {
   "cell_type": "code",
   "execution_count": 69,
   "metadata": {},
   "outputs": [
    {
     "ename": "ValueError",
     "evalue": "x and y must be the same size",
     "output_type": "error",
     "traceback": [
      "\u001b[1;31m---------------------------------------------------------------------------\u001b[0m",
      "\u001b[1;31mValueError\u001b[0m                                Traceback (most recent call last)",
      "\u001b[1;32m<ipython-input-69-3004eebb924d>\u001b[0m in \u001b[0;36m<module>\u001b[1;34m\u001b[0m\n\u001b[1;32m----> 1\u001b[1;33m \u001b[0mplt\u001b[0m\u001b[1;33m.\u001b[0m\u001b[0mscatter\u001b[0m\u001b[1;33m(\u001b[0m\u001b[0mX_train\u001b[0m\u001b[1;33m,\u001b[0m \u001b[0my_train\u001b[0m\u001b[1;33m,\u001b[0m \u001b[0ms\u001b[0m\u001b[1;33m=\u001b[0m\u001b[1;36m1\u001b[0m\u001b[1;33m)\u001b[0m\u001b[1;33m\u001b[0m\u001b[1;33m\u001b[0m\u001b[0m\n\u001b[0m\u001b[0;32m      2\u001b[0m \u001b[0mplt\u001b[0m\u001b[1;33m.\u001b[0m\u001b[0mshow\u001b[0m\u001b[1;33m(\u001b[0m\u001b[1;33m)\u001b[0m\u001b[1;33m\u001b[0m\u001b[1;33m\u001b[0m\u001b[0m\n",
      "\u001b[1;32mc:\\users\\megha\\lib\\site-packages\\matplotlib\\pyplot.py\u001b[0m in \u001b[0;36mscatter\u001b[1;34m(x, y, s, c, marker, cmap, norm, vmin, vmax, alpha, linewidths, verts, edgecolors, data, **kwargs)\u001b[0m\n\u001b[0;32m   2862\u001b[0m         \u001b[0mvmin\u001b[0m\u001b[1;33m=\u001b[0m\u001b[0mvmin\u001b[0m\u001b[1;33m,\u001b[0m \u001b[0mvmax\u001b[0m\u001b[1;33m=\u001b[0m\u001b[0mvmax\u001b[0m\u001b[1;33m,\u001b[0m \u001b[0malpha\u001b[0m\u001b[1;33m=\u001b[0m\u001b[0malpha\u001b[0m\u001b[1;33m,\u001b[0m \u001b[0mlinewidths\u001b[0m\u001b[1;33m=\u001b[0m\u001b[0mlinewidths\u001b[0m\u001b[1;33m,\u001b[0m\u001b[1;33m\u001b[0m\u001b[1;33m\u001b[0m\u001b[0m\n\u001b[0;32m   2863\u001b[0m         verts=verts, edgecolors=edgecolors, **({\"data\": data} if data\n\u001b[1;32m-> 2864\u001b[1;33m         is not None else {}), **kwargs)\n\u001b[0m\u001b[0;32m   2865\u001b[0m     \u001b[0msci\u001b[0m\u001b[1;33m(\u001b[0m\u001b[0m__ret\u001b[0m\u001b[1;33m)\u001b[0m\u001b[1;33m\u001b[0m\u001b[1;33m\u001b[0m\u001b[0m\n\u001b[0;32m   2866\u001b[0m     \u001b[1;32mreturn\u001b[0m \u001b[0m__ret\u001b[0m\u001b[1;33m\u001b[0m\u001b[1;33m\u001b[0m\u001b[0m\n",
      "\u001b[1;32mc:\\users\\megha\\lib\\site-packages\\matplotlib\\__init__.py\u001b[0m in \u001b[0;36minner\u001b[1;34m(ax, data, *args, **kwargs)\u001b[0m\n\u001b[0;32m   1808\u001b[0m                         \u001b[1;34m\"the Matplotlib list!)\"\u001b[0m \u001b[1;33m%\u001b[0m \u001b[1;33m(\u001b[0m\u001b[0mlabel_namer\u001b[0m\u001b[1;33m,\u001b[0m \u001b[0mfunc\u001b[0m\u001b[1;33m.\u001b[0m\u001b[0m__name__\u001b[0m\u001b[1;33m)\u001b[0m\u001b[1;33m,\u001b[0m\u001b[1;33m\u001b[0m\u001b[1;33m\u001b[0m\u001b[0m\n\u001b[0;32m   1809\u001b[0m                         RuntimeWarning, stacklevel=2)\n\u001b[1;32m-> 1810\u001b[1;33m             \u001b[1;32mreturn\u001b[0m \u001b[0mfunc\u001b[0m\u001b[1;33m(\u001b[0m\u001b[0max\u001b[0m\u001b[1;33m,\u001b[0m \u001b[1;33m*\u001b[0m\u001b[0margs\u001b[0m\u001b[1;33m,\u001b[0m \u001b[1;33m**\u001b[0m\u001b[0mkwargs\u001b[0m\u001b[1;33m)\u001b[0m\u001b[1;33m\u001b[0m\u001b[1;33m\u001b[0m\u001b[0m\n\u001b[0m\u001b[0;32m   1811\u001b[0m \u001b[1;33m\u001b[0m\u001b[0m\n\u001b[0;32m   1812\u001b[0m         inner.__doc__ = _add_data_doc(inner.__doc__,\n",
      "\u001b[1;32mc:\\users\\megha\\lib\\site-packages\\matplotlib\\axes\\_axes.py\u001b[0m in \u001b[0;36mscatter\u001b[1;34m(self, x, y, s, c, marker, cmap, norm, vmin, vmax, alpha, linewidths, verts, edgecolors, **kwargs)\u001b[0m\n\u001b[0;32m   4180\u001b[0m         \u001b[0my\u001b[0m \u001b[1;33m=\u001b[0m \u001b[0mnp\u001b[0m\u001b[1;33m.\u001b[0m\u001b[0mma\u001b[0m\u001b[1;33m.\u001b[0m\u001b[0mravel\u001b[0m\u001b[1;33m(\u001b[0m\u001b[0my\u001b[0m\u001b[1;33m)\u001b[0m\u001b[1;33m\u001b[0m\u001b[1;33m\u001b[0m\u001b[0m\n\u001b[0;32m   4181\u001b[0m         \u001b[1;32mif\u001b[0m \u001b[0mx\u001b[0m\u001b[1;33m.\u001b[0m\u001b[0msize\u001b[0m \u001b[1;33m!=\u001b[0m \u001b[0my\u001b[0m\u001b[1;33m.\u001b[0m\u001b[0msize\u001b[0m\u001b[1;33m:\u001b[0m\u001b[1;33m\u001b[0m\u001b[1;33m\u001b[0m\u001b[0m\n\u001b[1;32m-> 4182\u001b[1;33m             \u001b[1;32mraise\u001b[0m \u001b[0mValueError\u001b[0m\u001b[1;33m(\u001b[0m\u001b[1;34m\"x and y must be the same size\"\u001b[0m\u001b[1;33m)\u001b[0m\u001b[1;33m\u001b[0m\u001b[1;33m\u001b[0m\u001b[0m\n\u001b[0m\u001b[0;32m   4183\u001b[0m \u001b[1;33m\u001b[0m\u001b[0m\n\u001b[0;32m   4184\u001b[0m         \u001b[1;32mif\u001b[0m \u001b[0ms\u001b[0m \u001b[1;32mis\u001b[0m \u001b[1;32mNone\u001b[0m\u001b[1;33m:\u001b[0m\u001b[1;33m\u001b[0m\u001b[1;33m\u001b[0m\u001b[0m\n",
      "\u001b[1;31mValueError\u001b[0m: x and y must be the same size"
     ]
    },
    {
     "data": {
      "image/png": "[encoded data removed]",
      "text/plain": [
       "<Figure size 432x288 with 1 Axes>"
      ]
     },
     "metadata": {
      "needs_background": "light"
     },
     "output_type": "display_data"
    }
   ],
   "source": [
    "plt.scatter(X_train, y_train, s=1)\n",
    "plt.show()"
   ]
  },
  {
   "cell_type": "markdown",
   "metadata": {},
   "source": [
    "## Task 1 (20 pts)\n",
    "\n",
    "Train a linear model.\n",
    "\n",
    "- Compute Training accuracy\n",
    "- Plot the decision boundary using two functions (there should be two plots)\n",
    "- Compute test accuracy, confusion matrix, precision, recall, f1 score and classification report"
   ]
  },
  {
   "cell_type": "code",
   "execution_count": 27,
   "metadata": {},
   "outputs": [
    {
     "name": "stderr",
     "output_type": "stream",
     "text": [
      "c:\\users\\megha\\lib\\site-packages\\sklearn\\linear_model\\logistic.py:433: FutureWarning: Default solver will be changed to 'lbfgs' in 0.22. Specify a solver to silence this warning.\n",
      "  FutureWarning)\n"
     ]
    },
    {
     "name": "stdout",
     "output_type": "stream",
     "text": [
      "\n",
      " Train accuracy:  0.6\n"
     ]
    },
    {
     "data": {
      "image/png": "[encoded data removed]",
      "text/plain": [
       "<Figure size 432x288 with 1 Axes>"
      ]
     },
     "metadata": {
      "needs_background": "light"
     },
     "output_type": "display_data"
    }
   ],
   "source": [
    "param_grid = {'solver': ['liblinear'],'C': [1, 10, 50]}\n",
    "\n",
    "lg_reg = LogisticRegression()\n",
    "\n",
    "lg_reg.fit(X_train, y_train)\n",
    "#params_optimal = lg_reg.\n",
    "#y_train_\n",
    "\n",
    "y_train_predicted = lg_reg.predict(X_train)\n",
    "\n",
    "accuracy_score_test = np.mean(y_train_predicted == y_train)\n",
    "print(\"\\n Train accuracy: \", accuracy_score_test)\n",
    "\n",
    "decision_boundary_various_thresholds(lg_reg, X_train)\n",
    "\n",
    "\n"
   ]
  },
  {
   "cell_type": "code",
   "execution_count": 26,
   "metadata": {},
   "outputs": [
    {
     "name": "stdout",
     "output_type": "stream",
     "text": [
      "\n",
      " Test accuracy:  0.5666666666666667\n",
      "\n",
      "Test Confusion Matrix:\n",
      "[[11 20]\n",
      " [ 6 23]]\n",
      "\n",
      "Test Precision = 0.534884\n",
      "Test Recall = 0.793103\n",
      "Test F1 Score = 0.638889\n",
      "\n",
      "Classification Report:\n",
      "              precision    recall  f1-score   support\n",
      "\n",
      "           0       0.65      0.35      0.46        31\n",
      "           1       0.53      0.79      0.64        29\n",
      "\n",
      "   micro avg       0.57      0.57      0.57        60\n",
      "   macro avg       0.59      0.57      0.55        60\n",
      "weighted avg       0.59      0.57      0.55        60\n",
      "\n"
     ]
    },
    {
     "data": {
      "image/png": "[encoded data removed]",
      "text/plain": [
       "<Figure size 432x288 with 2 Axes>"
      ]
     },
     "metadata": {
      "needs_background": "light"
     },
     "output_type": "display_data"
    }
   ],
   "source": [
    "decision_boundary_class_colored(lg_reg, X_train, plotDistanceFromHyperplane=False)\n",
    "\n",
    "y_test_predicted = lg_reg.predict(X_test)\n",
    "\n",
    "accuracy_score_test = np.mean(y_test_predicted == y_test)\n",
    "print(\"\\n Test accuracy: \", accuracy_score_test)\n",
    "\n",
    "print(\"\\nTest Confusion Matrix:\")\n",
    "print(confusion_matrix(y_test, y_test_predicted))\n",
    "\n",
    "\n",
    "precision_test = precision_score(y_test, y_test_predicted) \n",
    "print(\"\\nTest Precision = %f\" % precision_test)\n",
    "\n",
    "recall_test = recall_score(y_test, y_test_predicted)\n",
    "print(\"Test Recall = %f\" % recall_test)\n",
    "\n",
    "\n",
    "f1_test = f1_score(y_test, y_test_predicted)\n",
    "print(\"Test F1 Score = %f\" % f1_test)\n",
    "\n",
    "\n",
    "print(\"\\nClassification Report:\")\n",
    "print(classification_report(y_test, y_test_predicted))\n",
    "\n"
   ]
  },
  {
   "cell_type": "markdown",
   "metadata": {},
   "source": [
    "## Task 2 (5 + 15  + 40 = 60)\n",
    "\n",
    "- Choose the optimal polynomial model.\n",
    "\n",
    "        -- Split the training data into training and validation fold (80%-20%). Vary the degree of the polynomial and train the Logistic Regression model using the training fold data. Then, compute the accuracy (use the \"score\" function) for the validation fold data using the models with varying degree. Finally, plot the accuracy values against the varying degree. From this plot find the optimal degree (that gives the highest validation fold accuracy).\n",
    "\n",
    "- Train the optimal polynomial model\n",
    "- Compute Training accuracy\n",
    "- Plot the decision boundary using two functions (there should be two plots)\n",
    "- Compute test accuracy, confusion matrix, precision, recall, f1 score and classification report\n",
    "\n",
    "\n"
   ]
  },
  {
   "cell_type": "markdown",
   "metadata": {},
   "source": [
    "### Choose the Optimal Polynomial Model\n",
    "\n",
    "You may vary the degree of the polynomial from 2 to 20.\n",
    "\n",
    "Try the \"liblinear\" solver.\n",
    "\n",
    "It is good to vary the hyperparameter \"C\" to see how it influences the test accuracy. For me \"C=1\" worked well."
   ]
  },
  {
   "cell_type": "markdown",
   "metadata": {},
   "source": [
    "#### Split Training data into Traing and Validation Fold (5 pts)"
   ]
  },
  {
   "cell_type": "code",
   "execution_count": 51,
   "metadata": {},
   "outputs": [
    {
     "name": "stdout",
     "output_type": "stream",
     "text": [
      "Best Score (accuracy): 0.550000\n",
      "Optimal Hyperparameter Values:  {'C': 1, 'solver': 'liblinear'}\n"
     ]
    },
    {
     "name": "stderr",
     "output_type": "stream",
     "text": [
      "c:\\users\\megha\\lib\\site-packages\\sklearn\\model_selection\\_search.py:841: DeprecationWarning: The default of the `iid` parameter will change from True to False in version 0.22 and will be removed in 0.24. This will change numeric results when test-set sizes are unequal.\n",
      "  DeprecationWarning)\n"
     ]
    }
   ],
   "source": [
    "param_grid = {'solver': ['liblinear'],'C': [1, 10, 50]}\n",
    "lg_reg = LogisticRegression()\n",
    "lg_reg_cv = GridSearchCV(lg_reg, param_grid, scoring='accuracy', cv=3)\n",
    "lg_reg_cv.fit(X_train, y_train)\n",
    "\n",
    "params_optimal = lg_reg_cv.best_params_\n",
    "    \n",
    "#print(\"Degree : %f\" % i)\n",
    "print(\"Best Score (accuracy): %f\" % lg_reg_cv.best_score_)\n",
    "print(\"Optimal Hyperparameter Values: \", params_optimal)"
   ]
  },
  {
   "cell_type": "markdown",
   "metadata": {},
   "source": [
    "#### Model Selection: Optimal Polynomial Degree (15 pts)"
   ]
  },
  {
   "cell_type": "code",
   "execution_count": 54,
   "metadata": {},
   "outputs": [
    {
     "name": "stdout",
     "output_type": "stream",
     "text": [
      "Degree : 2.000000\n",
      "Best Score (accuracy): 0.954167\n",
      "Optimal Hyperparameter Values:  {'C': 10, 'solver': 'liblinear'}\n",
      "Degree : 3.000000\n",
      "Best Score (accuracy): 0.954167\n",
      "Optimal Hyperparameter Values:  {'C': 1, 'solver': 'liblinear'}\n",
      "Degree : 4.000000\n",
      "Best Score (accuracy): 0.954167\n",
      "Optimal Hyperparameter Values:  {'C': 10, 'solver': 'liblinear'}\n",
      "Degree : 5.000000\n",
      "Best Score (accuracy): 0.954167\n",
      "Optimal Hyperparameter Values:  {'C': 10, 'solver': 'liblinear'}\n",
      "Degree : 6.000000\n",
      "Best Score (accuracy): 0.950000\n",
      "Optimal Hyperparameter Values:  {'C': 10, 'solver': 'liblinear'}\n",
      "Degree : 7.000000\n",
      "Best Score (accuracy): 0.950000\n",
      "Optimal Hyperparameter Values:  {'C': 10, 'solver': 'liblinear'}\n",
      "Degree : 8.000000\n",
      "Best Score (accuracy): 0.950000\n",
      "Optimal Hyperparameter Values:  {'C': 10, 'solver': 'liblinear'}\n",
      "Degree : 9.000000\n",
      "Best Score (accuracy): 0.950000\n",
      "Optimal Hyperparameter Values:  {'C': 10, 'solver': 'liblinear'}\n",
      "Degree : 10.000000\n",
      "Best Score (accuracy): 0.950000\n",
      "Optimal Hyperparameter Values:  {'C': 10, 'solver': 'liblinear'}\n",
      "Degree : 11.000000\n",
      "Best Score (accuracy): 0.950000\n",
      "Optimal Hyperparameter Values:  {'C': 10, 'solver': 'liblinear'}\n",
      "Degree : 12.000000\n",
      "Best Score (accuracy): 0.945833\n",
      "Optimal Hyperparameter Values:  {'C': 10, 'solver': 'liblinear'}\n",
      "Degree : 13.000000\n",
      "Best Score (accuracy): 0.945833\n",
      "Optimal Hyperparameter Values:  {'C': 10, 'solver': 'liblinear'}\n",
      "Degree : 14.000000\n",
      "Best Score (accuracy): 0.945833\n",
      "Optimal Hyperparameter Values:  {'C': 10, 'solver': 'liblinear'}\n",
      "Degree : 15.000000\n",
      "Best Score (accuracy): 0.945833\n",
      "Optimal Hyperparameter Values:  {'C': 10, 'solver': 'liblinear'}\n",
      "Degree : 16.000000\n",
      "Best Score (accuracy): 0.945833\n",
      "Optimal Hyperparameter Values:  {'C': 10, 'solver': 'liblinear'}\n",
      "Degree : 17.000000\n",
      "Best Score (accuracy): 0.945833\n",
      "Optimal Hyperparameter Values:  {'C': 10, 'solver': 'liblinear'}\n",
      "Degree : 18.000000\n",
      "Best Score (accuracy): 0.945833\n",
      "Optimal Hyperparameter Values:  {'C': 10, 'solver': 'liblinear'}\n",
      "Degree : 19.000000\n",
      "Best Score (accuracy): 0.945833\n",
      "Optimal Hyperparameter Values:  {'C': 10, 'solver': 'liblinear'}\n"
     ]
    },
    {
     "data": {
      "text/plain": [
       "[<matplotlib.lines.Line2D at 0x24ad12652b0>]"
      ]
     },
     "execution_count": 54,
     "metadata": {},
     "output_type": "execute_result"
    },
    {
     "data": {
      "image/png": "[encoded data removed]",
      "text/plain": [
       "<Figure size 432x288 with 1 Axes>"
      ]
     },
     "metadata": {
      "needs_background": "light"
     },
     "output_type": "display_data"
    }
   ],
   "source": [
    "degreeList = list(range(2, 20))\n",
    "accuracies= []\n",
    "\n",
    "for i in degreeList:\n",
    "\n",
    "    #lg_reg = make_pipeline(PolynomialFeatures(degree, include_bias=False), StandardScaler(), LogisticRegression()) \n",
    "  \n",
    "    poly_features = PolynomialFeatures(degree=i, include_bias=False)\n",
    "    X_train_poly = poly_features.fit_transform(X_train)\n",
    "    \n",
    "    lg_reg_cv.fit(X_train_poly, y_train)\n",
    "    \n",
    "    params_optimal = lg_reg_cv.best_params_\n",
    "    \n",
    "    print(\"Degree : %f\" % i)\n",
    "    print(\"Best Score (accuracy): %f\" % lg_reg_cv.best_score_)\n",
    "    accuracies.append(lg_reg_cv.best_score_)\n",
    "    print(\"Optimal Hyperparameter Values: \", params_optimal)\n",
    "    \n",
    "plt.plot(degreeList,accuracies , \"bo-\", alpha=1.0, linewidth=1.0, label=\"Train RMSE\")"
   ]
  },
  {
   "cell_type": "markdown",
   "metadata": {},
   "source": [
    "## Choose the Best Model (40 pts)\n",
    "\n",
    "- Train the optimal polynomial model\n",
    "- Compute Training accuracy\n",
    "- Plot the decision boundary using two functions (there should be two plots)\n",
    "- Compute test accuracy, confusion matrix, precision, recall, f1 score and classification report"
   ]
  },
  {
   "cell_type": "code",
   "execution_count": 59,
   "metadata": {},
   "outputs": [
    {
     "name": "stdout",
     "output_type": "stream",
     "text": [
      "\n",
      " Test accuracy:  0.9583333333333334\n",
      "\n",
      "Test Confusion Matrix:\n",
      "[[111   8]\n",
      " [  2 119]]\n",
      "\n",
      "Test Precision = 0.937008\n",
      "Test Recall = 0.983471\n",
      "Test F1 Score = 0.959677\n",
      "\n",
      "Classification Report:\n",
      "              precision    recall  f1-score   support\n",
      "\n",
      "           0       0.98      0.93      0.96       119\n",
      "           1       0.94      0.98      0.96       121\n",
      "\n",
      "   micro avg       0.96      0.96      0.96       240\n",
      "   macro avg       0.96      0.96      0.96       240\n",
      "weighted avg       0.96      0.96      0.96       240\n",
      "\n"
     ]
    }
   ],
   "source": [
    "# Since the values of accuracies are same at degrees 2,3,4,5, using degree 2.\n",
    "\n",
    "poly_features = PolynomialFeatures(degree=2, include_bias=False)\n",
    "X_train_poly = poly_features.fit_transform(X_train)\n",
    "lg_reg_cv.fit(X_train_poly, y_train)\n",
    "\n",
    "y_train_predicted = lg_reg_cv.predict(X_train_poly)\n",
    "\n",
    "accuracy_score_test = np.mean(y_train_predicted == y_train)\n",
    "print(\"\\n Test accuracy: \", accuracy_score_test)\n",
    "\n",
    "print(\"\\nTest Confusion Matrix:\")\n",
    "print(confusion_matrix(y_train, y_train_predicted))\n",
    "\n",
    "\n",
    "precision_test = precision_score(y_train, y_train_predicted) \n",
    "print(\"\\nTest Precision = %f\" % precision_test)\n",
    "\n",
    "recall_test = recall_score(y_train, y_train_predicted)\n",
    "print(\"Test Recall = %f\" % recall_test)\n",
    "\n",
    "\n",
    "f1_test = f1_score(y_train, y_train_predicted)\n",
    "print(\"Test F1 Score = %f\" % f1_test)\n",
    "\n",
    "\n",
    "print(\"\\nClassification Report:\")\n",
    "print(classification_report(y_train, y_train_predicted))\n",
    "    \n",
    "\n",
    "    \n"
   ]
  },
  {
   "cell_type": "markdown",
   "metadata": {},
   "source": [
    "# Observations (10 pts)\n",
    "\n",
    "- Summarize your observations from the two tasks\n",
    "- What type of decision boundary (linear/non-linear) is created by your polynomial model? Explain."
   ]
  }
 ],
 "metadata": {
  "anaconda-cloud": {},
  "kernelspec": {
   "display_name": "Python 3",
   "language": "python",
   "name": "python3"
  },
  "language_info": {
   "codemirror_mode": {
    "name": "ipython",
    "version": 3
   },
   "file_extension": ".py",
   "mimetype": "text/x-python",
   "name": "python",
   "nbconvert_exporter": "python",
   "pygments_lexer": "ipython3",
   "version": "3.7.2"
  }
 },
 "nbformat": 4,
 "nbformat_minor": 1
}
